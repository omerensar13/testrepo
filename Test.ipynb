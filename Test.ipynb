{
 "cells": [
  {
   "cell_type": "markdown",
   "id": "f466e101-9767-4d04-9d0b-1df889058d3a",
   "metadata": {
    "tags": []
   },
   "source": [
    "# How can you create markdownd ?\n",
    "**1.** select the cell <br>\n",
    "**2.** click code to markdown or select the cell and press m shortcut key\n"
   ]
  },
  {
   "cell_type": "code",
   "execution_count": null,
   "id": "753f684f-7e80-434b-a0a2-073c44d1ce0f",
   "metadata": {},
   "outputs": [],
   "source": []
  }
 ],
 "metadata": {
  "kernelspec": {
   "display_name": "Python [conda env:newenvs] *",
   "language": "python",
   "name": "conda-env-newenvs-py"
  },
  "language_info": {
   "codemirror_mode": {
    "name": "ipython",
    "version": 3
   },
   "file_extension": ".py",
   "mimetype": "text/x-python",
   "name": "python",
   "nbconvert_exporter": "python",
   "pygments_lexer": "ipython3",
   "version": "3.10.4"
  }
 },
 "nbformat": 4,
 "nbformat_minor": 5
}
