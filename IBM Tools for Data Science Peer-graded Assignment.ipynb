{
 "cells": [
  {
   "cell_type": "markdown",
   "id": "8925fe45-ce6d-4945-9227-3c0e87025537",
   "metadata": {},
   "source": [
    "# Data Science Tools and Ecosystem"
   ]
  },
  {
   "cell_type": "markdown",
   "id": "0fe26975-c5d9-4b1c-b7f8-8f5f39fc1481",
   "metadata": {},
   "source": [
    "In this notebook, Data Science Tools and Ecosystem are summarized."
   ]
  },
  {
   "cell_type": "markdown",
   "id": "ff7067b7-e617-4c06-80fb-63f276ac59e0",
   "metadata": {},
   "source": [
    "Some of the popular languages that Data Scientists use are:<br>\n",
    "1. Python\n",
    "2. R\n",
    "3. SQL\n",
    "4. Java\n",
    "5. Julia\n",
    "6. Scala\n",
    "7. C/C++\n",
    "8. JavaScript"
   ]
  },
  {
   "cell_type": "markdown",
   "id": "68dccaee-1530-4eb7-9393-a1a73f71bbdb",
   "metadata": {},
   "source": [
    "Some of the commonly used libraries used by Data Scientists include:<br>\n",
    "1. TensorFlow.\n",
    "2. NumPy.\n",
    "3. SciPy.\n",
    "4. Pandas.\n",
    "5. Matplotlib.\n",
    "6. Keras.\n",
    "7. SciKit-Learn.\n",
    "8. PyTorch."
   ]
  },
  {
   "cell_type": "markdown",
   "id": "2686ea85-3251-4c9b-91bc-1788cde11de1",
   "metadata": {},
   "source": [
    "## Data Science Tools\n",
    "| Data Science Tools |\n",
    "| --- |\n",
    "| Python |\n",
    "| Pandas |\n",
    "| R |\n",
    "| SQL |\n",
    "| Numpy |\n",
    "| Scikit-learn |\n",
    "| TensorFlow |\n",
    "| PyTorch |"
   ]
  },
  {
   "cell_type": "markdown",
   "id": "5297b42a-1eb3-4e66-9b3a-10e9456b948c",
   "metadata": {},
   "source": [
    "### Below are a few examples of evaluating arithmetic expressions in Python"
   ]
  },
  {
   "cell_type": "code",
   "execution_count": 22,
   "id": "8586aca2-b831-48a6-8aac-c0ae9c23ce9c",
   "metadata": {},
   "outputs": [
    {
     "data": {
      "text/plain": [
       "17"
      ]
     },
     "execution_count": 22,
     "metadata": {},
     "output_type": "execute_result"
    }
   ],
   "source": [
    "#This a simple arithmetic expression to mutiply then add integers\n",
    "(3*4)+5"
   ]
  },
  {
   "cell_type": "code",
   "execution_count": 23,
   "id": "6731e281-3740-430a-adda-3a3965901e9c",
   "metadata": {},
   "outputs": [
    {
     "name": "stdout",
     "output_type": "stream",
     "text": [
      "There are 3.3333333333333335 hours in 200 minutes.\n"
     ]
    }
   ],
   "source": [
    "# This will convert 200 minutes to hours by diving by 60.\n",
    "\n",
    "minutes = 200\n",
    "\n",
    "hours = minutes / 60\n",
    "\n",
    "print(\"There are\", hours, \"hours in\", minutes, \"minutes.\")"
   ]
  },
  {
   "cell_type": "markdown",
   "id": "04b239de-2617-40f9-ae4b-cf571976015b",
   "metadata": {},
   "source": [
    "**Objectives:**<br>\n",
    "\n",
    "* List popular languages for Data Science<br>\n",
    "* List popular libraries for Data Science<br>\n",
    "* Create table of popular tools for Data Science<br>\n"
   ]
  },
  {
   "cell_type": "markdown",
   "id": "002dd731-6862-4b63-9faf-12128507db38",
   "metadata": {},
   "source": [
    "## Author\n",
    "Omer Ensar DURMUS"
   ]
  }
 ],
 "metadata": {
  "kernelspec": {
   "display_name": "Python",
   "language": "python",
   "name": "conda-env-python-py"
  },
  "language_info": {
   "codemirror_mode": {
    "name": "ipython",
    "version": 3
   },
   "file_extension": ".py",
   "mimetype": "text/x-python",
   "name": "python",
   "nbconvert_exporter": "python",
   "pygments_lexer": "ipython3",
   "version": "3.7.12"
  }
 },
 "nbformat": 4,
 "nbformat_minor": 5
}
